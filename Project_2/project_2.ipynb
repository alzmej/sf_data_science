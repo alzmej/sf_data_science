{
 "cells": [
  {
   "cell_type": "markdown",
   "id": "ba731f0d",
   "metadata": {
    "id": "42289889-bd57-434e-9637-d3e354756316"
   },
   "source": [
    "<center> <img src = https://raw.githubusercontent.com/AndreyRysistov/DatasetsForPandas/main/hh%20label.jpg alt=\"drawing\" style=\"width:400px;\">"
   ]
  },
  {
   "cell_type": "markdown",
   "id": "a9361118",
   "metadata": {
    "id": "829cb75b-f14e-4ba8-9195-7ba929a7d656",
    "tags": []
   },
   "source": [
    "# <center> Проект: Анализ вакансий из HeadHunter\n",
    "   "
   ]
  },
  {
   "cell_type": "code",
   "execution_count": 1,
   "id": "6897d6d2",
   "metadata": {
    "id": "dccfde33-2452-43fb-a8a5-5c6ebc02a71d"
   },
   "outputs": [],
   "source": [
    "import pandas as pd\n",
    "import psycopg2\n",
    "import requests\n",
    "from bs4 import BeautifulSoup\n",
    "import warnings\n",
    "warnings.filterwarnings(\"ignore\")"
   ]
  },
  {
   "cell_type": "code",
   "execution_count": 2,
   "id": "639fda19",
   "metadata": {
    "id": "oVKH4ehvf8Ay"
   },
   "outputs": [],
   "source": [
    "# вставьте сюда параметры подключения из юнита 1. Работа с базой данных из Python \n",
    "DBNAME = 'project_sql'\n",
    "USER = 'skillfactory'\n",
    "PASSWORD = 'cCkxxLVrDE8EbvjueeMedPKt'\n",
    "HOST = '84.201.134.129'\n",
    "PORT = 5432"
   ]
  },
  {
   "cell_type": "code",
   "execution_count": 3,
   "id": "bbc3a98a",
   "metadata": {
    "id": "G4X_q8KBf7SF"
   },
   "outputs": [],
   "source": [
    "connection = psycopg2.connect(\n",
    "    dbname=DBNAME,\n",
    "    user=USER,\n",
    "    host=HOST,\n",
    "    password=PASSWORD,\n",
    "    port=PORT\n",
    ")"
   ]
  },
  {
   "cell_type": "markdown",
   "id": "1022ce75",
   "metadata": {
    "id": "0dc6476b-7a00-44f1-ac93-6e3baed33a29"
   },
   "source": [
    "# Юнит 3. Предварительный анализ данных"
   ]
  },
  {
   "cell_type": "markdown",
   "id": "151feb92",
   "metadata": {
    "id": "889782b6-8d1c-410e-8920-e57f27917c64"
   },
   "source": [
    "1. Напишите запрос, который посчитает количество вакансий в нашей базе (вакансии находятся в таблице vacancies). "
   ]
  },
  {
   "cell_type": "code",
   "execution_count": 4,
   "id": "1d5cfa73",
   "metadata": {
    "id": "bc39e68e-ed02-4ee2-9235-7258a2f867a8"
   },
   "outputs": [],
   "source": [
    "# текст запроса\n",
    "query_3_1 = f'''\n",
    "select \n",
    "count(v.id)\n",
    "from public.VACANCIES v\n",
    "'''"
   ]
  },
  {
   "cell_type": "code",
   "execution_count": 5,
   "id": "62b439ca",
   "metadata": {
    "id": "7mAwtsk4hEHY"
   },
   "outputs": [
    {
     "data": {
      "text/plain": [
       "49197"
      ]
     },
     "execution_count": 5,
     "metadata": {},
     "output_type": "execute_result"
    }
   ],
   "source": [
    "# результат запроса\n",
    "result = pd.read_sql_query(query_3_1, connection)\n",
    "result.iloc[0][0]"
   ]
  },
  {
   "cell_type": "markdown",
   "id": "2af8e878",
   "metadata": {
    "id": "b583485d-1f9e-494e-ada4-80ffff7c53d6"
   },
   "source": [
    "2. Напишите запрос, который посчитает количество работодателей (таблица employers). "
   ]
  },
  {
   "cell_type": "code",
   "execution_count": 6,
   "id": "9c33b90b",
   "metadata": {
    "id": "5408c52c-3407-4a63-b25b-1aafa2322d28"
   },
   "outputs": [],
   "source": [
    "# текст запроса\n",
    "query_3_2 = f'''\n",
    "select \n",
    "count(v.id)\n",
    "from public.EMPLOYERS v\n",
    "'''"
   ]
  },
  {
   "cell_type": "code",
   "execution_count": 7,
   "id": "537668b7",
   "metadata": {
    "id": "jVL4eshKhdqc"
   },
   "outputs": [
    {
     "data": {
      "text/plain": [
       "23501"
      ]
     },
     "execution_count": 7,
     "metadata": {},
     "output_type": "execute_result"
    }
   ],
   "source": [
    "# результат запроса\n",
    "result = pd.read_sql_query(query_3_2, connection)\n",
    "result.iloc[0][0]"
   ]
  },
  {
   "cell_type": "markdown",
   "id": "887a1b6c",
   "metadata": {
    "id": "a2bfff1f-c975-4bf6-84be-2185d79dcb76"
   },
   "source": [
    "3. Посчитате с помощью запроса количество регионов (таблица areas)."
   ]
  },
  {
   "cell_type": "code",
   "execution_count": 8,
   "id": "02a04d22",
   "metadata": {
    "id": "1m8QJwBYhey6"
   },
   "outputs": [],
   "source": [
    "# текст запроса\n",
    "query_3_3 = f'''\n",
    "select \n",
    "count(a.id)\n",
    "from public.areas a\n",
    "'''"
   ]
  },
  {
   "cell_type": "code",
   "execution_count": 9,
   "id": "5677965e",
   "metadata": {
    "id": "EZsn9tlfhe7f"
   },
   "outputs": [
    {
     "data": {
      "text/plain": [
       "1362"
      ]
     },
     "execution_count": 9,
     "metadata": {},
     "output_type": "execute_result"
    }
   ],
   "source": [
    "# результат запроса\n",
    "result = pd.read_sql_query(query_3_3, connection)\n",
    "result.iloc[0][0]"
   ]
  },
  {
   "cell_type": "markdown",
   "id": "1b3fbd0b",
   "metadata": {
    "id": "41bb59f3-53cc-4a67-a5bc-bedf573955e4"
   },
   "source": [
    "4. Посчитате с помощью запроса количество сфер деятельности в базе (таблица industries)."
   ]
  },
  {
   "cell_type": "code",
   "execution_count": 10,
   "id": "7b64d958",
   "metadata": {
    "id": "d286cf4c-707b-4cd2-9190-7ab3587d04a1"
   },
   "outputs": [],
   "source": [
    "# текст запроса\n",
    "query_3_4 = f'''\n",
    "select \n",
    "count(i.id)\n",
    "from public.INDUSTRIES i\n",
    "'''"
   ]
  },
  {
   "cell_type": "code",
   "execution_count": 11,
   "id": "0e0a97d1",
   "metadata": {
    "id": "JYAaoZ4qhfzW"
   },
   "outputs": [
    {
     "data": {
      "text/plain": [
       "294"
      ]
     },
     "execution_count": 11,
     "metadata": {},
     "output_type": "execute_result"
    }
   ],
   "source": [
    "# результат запроса\n",
    "result = pd.read_sql_query(query_3_4, connection)\n",
    "result.iloc[0][0]"
   ]
  },
  {
   "cell_type": "markdown",
   "id": "a26fe1c9",
   "metadata": {
    "id": "9a8a2181-6914-448b-85f1-38f5f18b8a93"
   },
   "source": [
    "***\n",
    "### Выводы по предварительному анализу вакансий:"
   ]
  },
  {
   "cell_type": "markdown",
   "id": "16f798c1",
   "metadata": {
    "id": "be4e9bd3-a4db-4a20-82fb-6b02fc2957e0"
   },
   "source": [
    "*По результатам предварительного анализа даных можно сделать вывод о обширном, но не всеобемлющем охвате как регионов\n",
    "так и сфер деятельности. Обращает на себя внимание тот факт, что количество работодателей лишь в 2 раза меньше чем вакансий. Что может говорить о не слишком большом спектре вакансий у каждого из работодателей.*"
   ]
  },
  {
   "cell_type": "markdown",
   "id": "86289cfe",
   "metadata": {
    "id": "8d62a9f3-f64e-4fe7-bdac-c4dffa16155e"
   },
   "source": [
    "# Юнит 4. Детальный анализ вакансий"
   ]
  },
  {
   "cell_type": "markdown",
   "id": "1e56df4b",
   "metadata": {
    "id": "93053d3d-b284-481a-9cf7-012d7014c0e0"
   },
   "source": [
    "1. Напишите запрос, который позволит узнать, сколько (cnt) вакансий в каждом регионе (area).\n",
    "Отсортируйте по количеству вакансий в порядке убывания."
   ]
  },
  {
   "cell_type": "code",
   "execution_count": 12,
   "id": "fabc9cf6",
   "metadata": {
    "id": "3f069da6-fdc9-4ae7-b514-fafe2675efd3"
   },
   "outputs": [],
   "source": [
    "# текст запроса\n",
    "query_4_1 = f'''\n",
    "select \n",
    "count(v.id),  -- считаем количество вакансий\n",
    "a.name\n",
    "from public.VACANCIES v\n",
    "--объединяем таблицы вакансий и регионов по идентификаторам\n",
    "join public.areas a on a.id=v.area_id                   \n",
    "-- группируем по наименованию региона\n",
    "group by a.name\n",
    "-- отсортируем по количеству вакансий в порядке убывания\n",
    "order by 1 desc  \n",
    "-- выведем 5 первых значений                        \n",
    "limit 5         \n",
    "'''"
   ]
  },
  {
   "cell_type": "code",
   "execution_count": 13,
   "id": "a290a163",
   "metadata": {
    "id": "P7QL86hrjhRJ"
   },
   "outputs": [
    {
     "data": {
      "text/plain": [
       "['Москва', 'Санкт-Петербург', 'Минск', 'Новосибирск', 'Алматы']"
      ]
     },
     "execution_count": 13,
     "metadata": {},
     "output_type": "execute_result"
    }
   ],
   "source": [
    "# результат запроса\n",
    "result = pd.read_sql_query(query_4_1, connection)\n",
    "list(result['name'])"
   ]
  },
  {
   "cell_type": "markdown",
   "id": "259c8bd0",
   "metadata": {
    "id": "4266f0b6-1646-492a-88b4-2f6a46502135"
   },
   "source": [
    "2. Напишите запрос, чтобы определить у какого количества вакансий заполнено хотя бы одно из двух полей с зарплатой."
   ]
  },
  {
   "cell_type": "code",
   "execution_count": 14,
   "id": "91605ef0",
   "metadata": {
    "id": "0c44b350-72eb-4d65-8b54-a1fc449ba9fd"
   },
   "outputs": [],
   "source": [
    "# текст запроса\n",
    "query_4_2 = f'''\n",
    "select \n",
    "-- считаем количество вакансий\n",
    "count(v.id)   \n",
    "from public.VACANCIES v\n",
    "-- условием отбора делаем наличие данных в одном из\n",
    "-- двух полей с зарплатой минимальной и максимальной\n",
    "where v.salary_from is not null or v.salary_to is not null  \n",
    "                                                            \n",
    "'''"
   ]
  },
  {
   "cell_type": "code",
   "execution_count": 15,
   "id": "1a1c3269",
   "metadata": {
    "id": "rhvwaMDkoWTi"
   },
   "outputs": [
    {
     "data": {
      "text/plain": [
       "24073"
      ]
     },
     "execution_count": 15,
     "metadata": {},
     "output_type": "execute_result"
    }
   ],
   "source": [
    "# результат запроса\n",
    "result = pd.read_sql_query(query_4_2, connection)\n",
    "result.iloc[0][0]    "
   ]
  },
  {
   "cell_type": "markdown",
   "id": "46491288",
   "metadata": {
    "id": "635c4d5d-f323-4c66-b428-50a088120aa0"
   },
   "source": [
    "3. Найдите средние значения для нижней и верхней границы зарплатной вилки. Округлите значения до целого."
   ]
  },
  {
   "cell_type": "code",
   "execution_count": 16,
   "id": "c1a5e6bf",
   "metadata": {
    "id": "603cdbe4-0ec3-4106-8eaf-c73fcdd29165"
   },
   "outputs": [],
   "source": [
    "# текст запроса\n",
    "query_4_3 = f'''\n",
    "select \n",
    "--считаем среднее значение для минимальной зарплаты\n",
    "round(avg(v.salary_from),0) min,   \n",
    "--считаем среднее значение для максимальной зарплаты\n",
    "round(avg(v.salary_to),0) max                          \n",
    "from public.VACANCIES v\n",
    "'''"
   ]
  },
  {
   "cell_type": "code",
   "execution_count": 17,
   "id": "bb09c78f",
   "metadata": {
    "id": "pswpAb66ovZZ"
   },
   "outputs": [
    {
     "data": {
      "text/plain": [
       "min     71065.0\n",
       "max    110537.0\n",
       "Name: 0, dtype: float64"
      ]
     },
     "execution_count": 17,
     "metadata": {},
     "output_type": "execute_result"
    }
   ],
   "source": [
    "# результат запроса\n",
    "result = pd.read_sql_query(query_4_3, connection)\n",
    "result.iloc[0]"
   ]
  },
  {
   "cell_type": "markdown",
   "id": "a2cf9334",
   "metadata": {
    "id": "f3fdaec9-5fd3-4260-9cf5-1d7406b628a5"
   },
   "source": [
    "4. Напишите запрос, который выведет количество вакансий для каждого сочетания типа рабочего графика (schedule) и типа трудоустройства (employment), используемого в вакансиях. Результат отсортируйте по убыванию количества.\n"
   ]
  },
  {
   "cell_type": "code",
   "execution_count": 18,
   "id": "cb100e62",
   "metadata": {
    "id": "1ea710ec-871b-431e-9462-c7d0fd87011b"
   },
   "outputs": [],
   "source": [
    "# текст запроса\n",
    "query_4_4 = f'''\n",
    "select \n",
    "-- считаем количество вакансий\n",
    "count(v.id),   \n",
    "-- находим комбинацию типа рабочего графика и \n",
    "-- типа трудоустройства\n",
    "v.schedule||'-'||v.employment combination  \n",
    "from public.VACANCIES v\n",
    "-- группируем по сочетанию типа рабочего графика \n",
    "-- и типа трудоустройства\n",
    "group by 2           \n",
    "-- сотрируем по количеству найденных вакансий для \n",
    "-- получившихся сочетаний по убыванию                   \n",
    "order by 1 desc      \n",
    "-- берем две первые записи                    \n",
    "limit 2             \n",
    "'''"
   ]
  },
  {
   "cell_type": "code",
   "execution_count": 19,
   "id": "2283f51a",
   "metadata": {
    "id": "lGUVqavdo4JQ"
   },
   "outputs": [
    {
     "data": {
      "text/html": [
       "<div>\n",
       "<style scoped>\n",
       "    .dataframe tbody tr th:only-of-type {\n",
       "        vertical-align: middle;\n",
       "    }\n",
       "\n",
       "    .dataframe tbody tr th {\n",
       "        vertical-align: top;\n",
       "    }\n",
       "\n",
       "    .dataframe thead th {\n",
       "        text-align: right;\n",
       "    }\n",
       "</style>\n",
       "<table border=\"1\" class=\"dataframe\">\n",
       "  <thead>\n",
       "    <tr style=\"text-align: right;\">\n",
       "      <th></th>\n",
       "      <th>count</th>\n",
       "      <th>combination</th>\n",
       "    </tr>\n",
       "  </thead>\n",
       "  <tbody>\n",
       "    <tr>\n",
       "      <th>0</th>\n",
       "      <td>35367</td>\n",
       "      <td>Полный день-Полная занятость</td>\n",
       "    </tr>\n",
       "    <tr>\n",
       "      <th>1</th>\n",
       "      <td>7802</td>\n",
       "      <td>Удаленная работа-Полная занятость</td>\n",
       "    </tr>\n",
       "  </tbody>\n",
       "</table>\n",
       "</div>"
      ],
      "text/plain": [
       "   count                        combination\n",
       "0  35367       Полный день-Полная занятость\n",
       "1   7802  Удаленная работа-Полная занятость"
      ]
     },
     "execution_count": 19,
     "metadata": {},
     "output_type": "execute_result"
    }
   ],
   "source": [
    "# результат запроса\n",
    "result = pd.read_sql_query(query_4_4, connection)\n",
    "result"
   ]
  },
  {
   "cell_type": "markdown",
   "id": "cc06daaa",
   "metadata": {
    "id": "0136ffee-0ead-4a6b-b608-61d1c753a438"
   },
   "source": [
    "5. Напишите запрос, выводящий значения поля Требуемый опыт работы (experience) в порядке возрастания количества вакансий, в которых указан данный вариант опыта. "
   ]
  },
  {
   "cell_type": "code",
   "execution_count": 20,
   "id": "49c26e00",
   "metadata": {
    "id": "5b3a8e79-f7ab-4008-b767-12aea3a205ea"
   },
   "outputs": [],
   "source": [
    "# текст запроса\n",
    "query_4_5 = f'''\n",
    "select \n",
    "-- считаем количество вакансий\n",
    "count(v.id),  \n",
    "v.experience\n",
    "from public.VACANCIES v\n",
    "-- группируем по значению поля Требуемый опыт работы\n",
    "group by 2    \n",
    "-- сотритуем по количеству найденных вакансий для каждого варинта\n",
    "order by 1       \n",
    "'''"
   ]
  },
  {
   "cell_type": "code",
   "execution_count": 21,
   "id": "4b5bc0c0",
   "metadata": {
    "id": "3Is64Y-hpDpq"
   },
   "outputs": [
    {
     "data": {
      "text/plain": [
       "['Более 6 лет', 'Нет опыта', 'От 3 до 6 лет', 'От 1 года до 3 лет']"
      ]
     },
     "execution_count": 21,
     "metadata": {},
     "output_type": "execute_result"
    }
   ],
   "source": [
    "# результат запроса\n",
    "result = pd.read_sql_query(query_4_5, connection)\n",
    "list(result['experience'])"
   ]
  },
  {
   "cell_type": "markdown",
   "id": "f77ffcc5",
   "metadata": {
    "id": "oq2b7n1QpIka"
   },
   "source": [
    "***\n",
    "### Выводы по детальному анализу вакансий"
   ]
  },
  {
   "cell_type": "markdown",
   "id": "09a8d849",
   "metadata": {
    "id": "e91f87ed-e25c-4f96-9f92-b642e8c0b4fa"
   },
   "source": [
    "\n",
    "- *Количество вакансий коррелирует с населением и промышленно-деловым потенциалом городов.*\n",
    "- *Не многим более чем у половины вакансий заполнены поля с ожидаемым уровнем зарплаты, что может говорить, для части работодателей, как об ориентировании этой группы на средние значения по рынку так и не желании сообщать эту информацию до проведения собеседования.*\n",
    "- *Диапазон колебаний средней зарплаты в районе 25% говорит о достаочно стабильном её уровне, при условии различного уровня зарплат в различных регионах.*\n",
    "- *Соотношение типов рабочего графика говорит о преобладающих тенденциях поиска работодателями, опубликовавшими вакансии, работников для работы в офисе.*\n",
    "- *Динамика количества вакансий в зависимости от опыта может говорить о том, что площадка НН не слишком активно используется для поиска сотрудников с большим опытом, которые вероятно имеют возможность искать работу с использованием прямых контактов. А используется преимуществено для поиска выпускников учебных заведений с не большим стажем работы.*"
   ]
  },
  {
   "cell_type": "markdown",
   "id": "68e113a7",
   "metadata": {
    "id": "7ea20ab6-04a7-40a0-adec-443a0e5a42c3"
   },
   "source": [
    "# Юнит 5. Анализ работодателей"
   ]
  },
  {
   "cell_type": "markdown",
   "id": "d2a94a12",
   "metadata": {
    "id": "968aed80-74ef-4ffb-b5bf-c65b84e9caea"
   },
   "source": [
    "1. Напишите запрос, который позволит узнать, какие работодатели находятся на первом и пятом месте по количеству вакансий."
   ]
  },
  {
   "cell_type": "code",
   "execution_count": 22,
   "id": "d267943d",
   "metadata": {
    "id": "f2d62796-d400-4ec1-a675-88112739a50e"
   },
   "outputs": [],
   "source": [
    "# текст запроса\n",
    "query_5_1 = f'''\n",
    "-- находим работодателя на первом месте по количеству вакансий\n",
    "(select  \n",
    "-- считаем количество вакансий\n",
    "count(v.id), \n",
    "e.name\n",
    "from public.VACANCIES v\n",
    "--объединяем таблицы вакансий и работодателей по ключевым полям\n",
    "join public.EMPLOYERS e on e.id = v.employer_id  \n",
    "-- группируем по наименованиям работодателей            \n",
    "group by 2 \n",
    "-- сортируем по возрастанию по количеству вакансий\n",
    "order by 1 desc \n",
    "-- выводим первую запись\n",
    "limit 1) \n",
    "-- соединяем таблицы по вертикали\n",
    "union \n",
    "-- находим работодателя на 5-м месте по количеству вакансий\n",
    "(select \n",
    "-- считаем количество вакансий\n",
    "count(v.id),  \n",
    "e.name\n",
    "from public.VACANCIES v\n",
    "-- объединяем таблицы вакансий и работодателей по ключевым полям\n",
    "join public.EMPLOYERS e on e.id = v.employer_id   \n",
    "-- группируем по наименованиям работодателей                \n",
    "group by 2        \n",
    "-- сортируем по возрастанию по количеству вакансий \n",
    "order by 1 desc   \n",
    "-- пропускаем 4 первых значения\n",
    "offset 4     \n",
    "-- берем 5-е значение\n",
    "limit 1)     \n",
    "-- сортируем полученный результат по убыванию\n",
    "order by 1 desc  \n",
    "'''"
   ]
  },
  {
   "cell_type": "code",
   "execution_count": 23,
   "id": "3552861e",
   "metadata": {
    "id": "64tOMkAxqkQk"
   },
   "outputs": [
    {
     "name": "stdout",
     "output_type": "stream",
     "text": [
      "Яндекс-Газпром нефть\n"
     ]
    }
   ],
   "source": [
    "# результат запроса\n",
    "result = pd.read_sql_query(query_5_1, connection)\n",
    "print('-'.join(list(result['name'])))"
   ]
  },
  {
   "cell_type": "markdown",
   "id": "150d6ea4",
   "metadata": {
    "id": "68377cfc-b378-43dc-ab7d-1195abf2c515"
   },
   "source": [
    "2. Напишите запрос, который для каждого региона выведет количество работодателей и вакансий в нём.\n",
    "Среди регионов, в которых нет вакансий, найдите тот, в котором наибольшее количество работодателей.\n"
   ]
  },
  {
   "cell_type": "code",
   "execution_count": 24,
   "id": "98d3d1bd",
   "metadata": {
    "id": "dd7df27a-e3e8-412e-a21a-5d389b71e891"
   },
   "outputs": [],
   "source": [
    "# текст запроса\n",
    "query_5_2 = f'''\n",
    "select \n",
    "a.name,\n",
    "-- считаем количество работоателей\n",
    "count(e.id) работодатели, \n",
    "-- считаем количесво вакансий\n",
    "count(v.id) вакансии      \n",
    "from public.AREAS a\n",
    "-- объединяем таблицы работодателей и регионов\n",
    "join public.EMPLOYERS e on a.id = e.area       \n",
    "-- объединяем таблицы вакансий и регионов\n",
    "left join public.VACANCIES v on a.id = v.area_id  \n",
    "-- группироуем по наименованию региона\n",
    "group by 1             \n",
    "-- ограничиваем отбор регионами в которых нет \n",
    "-- вакансий (их количество равно нулю)\n",
    "having count(v.id) = 0 \n",
    "-- упрядочим по количесву работодателей по убыванию\n",
    "order by 2 desc           \n",
    "-- берем первую запись\n",
    "limit 1                   \n",
    "''' "
   ]
  },
  {
   "cell_type": "code",
   "execution_count": 25,
   "id": "4cf9ec6b",
   "metadata": {
    "id": "x1ikWbydrbf6"
   },
   "outputs": [
    {
     "name": "stdout",
     "output_type": "stream",
     "text": [
      "Россия\n"
     ]
    }
   ],
   "source": [
    "# результат запроса\n",
    "result = pd.read_sql_query(query_5_2, connection)\n",
    "print(result['name'][0])"
   ]
  },
  {
   "cell_type": "markdown",
   "id": "832e6fbb",
   "metadata": {
    "id": "f2fe0acb-ab1a-4e15-9326-2560e22d73c1"
   },
   "source": [
    "3. Для каждого работодателя посчитайте количество регионов, в которых он публикует свои вакансии. Отсортируйте результат по убыванию количества.\n"
   ]
  },
  {
   "cell_type": "code",
   "execution_count": 26,
   "id": "d6d2d1a7",
   "metadata": {
    "id": "6271f8ad-bd2e-4196-ae4a-5b39c4c1010e"
   },
   "outputs": [],
   "source": [
    "# текст запроса\n",
    "query_5_3 = f'''\n",
    "select \n",
    "e.name,\n",
    "-- считаем количесво уникальных регионов в которых \n",
    "-- работодатели публикуют вакансии\n",
    "count(distinct(v.area_id)) \n",
    "from public.EMPLOYERS e\n",
    "-- объединем таблицы вакансий и работодателей\n",
    "left join public.VACANCIES v on e.id = v.employer_id \n",
    "-- группируем по наименованию работодателя\n",
    "group by 1               \n",
    "-- сортируем по количеству регионов по убыванию\n",
    "order by 2 desc            \n",
    "'''"
   ]
  },
  {
   "cell_type": "code",
   "execution_count": 27,
   "id": "f07ec49f",
   "metadata": {
    "id": "1EIvX3HasH4F"
   },
   "outputs": [
    {
     "data": {
      "text/html": [
       "<div>\n",
       "<style scoped>\n",
       "    .dataframe tbody tr th:only-of-type {\n",
       "        vertical-align: middle;\n",
       "    }\n",
       "\n",
       "    .dataframe tbody tr th {\n",
       "        vertical-align: top;\n",
       "    }\n",
       "\n",
       "    .dataframe thead th {\n",
       "        text-align: right;\n",
       "    }\n",
       "</style>\n",
       "<table border=\"1\" class=\"dataframe\">\n",
       "  <thead>\n",
       "    <tr style=\"text-align: right;\">\n",
       "      <th></th>\n",
       "      <th>name</th>\n",
       "      <th>count</th>\n",
       "    </tr>\n",
       "  </thead>\n",
       "  <tbody>\n",
       "    <tr>\n",
       "      <th>0</th>\n",
       "      <td>Яндекс</td>\n",
       "      <td>181</td>\n",
       "    </tr>\n",
       "    <tr>\n",
       "      <th>1</th>\n",
       "      <td>Ростелеком</td>\n",
       "      <td>152</td>\n",
       "    </tr>\n",
       "    <tr>\n",
       "      <th>2</th>\n",
       "      <td>Спецремонт</td>\n",
       "      <td>116</td>\n",
       "    </tr>\n",
       "    <tr>\n",
       "      <th>3</th>\n",
       "      <td>Поляков Денис Иванович</td>\n",
       "      <td>88</td>\n",
       "    </tr>\n",
       "    <tr>\n",
       "      <th>4</th>\n",
       "      <td>ООО ЕФИН</td>\n",
       "      <td>71</td>\n",
       "    </tr>\n",
       "    <tr>\n",
       "      <th>...</th>\n",
       "      <td>...</td>\n",
       "      <td>...</td>\n",
       "    </tr>\n",
       "    <tr>\n",
       "      <th>23170</th>\n",
       "      <td>СДЕЛКА</td>\n",
       "      <td>0</td>\n",
       "    </tr>\n",
       "    <tr>\n",
       "      <th>23171</th>\n",
       "      <td>Alandr Group</td>\n",
       "      <td>0</td>\n",
       "    </tr>\n",
       "    <tr>\n",
       "      <th>23172</th>\n",
       "      <td>СДК</td>\n",
       "      <td>0</td>\n",
       "    </tr>\n",
       "    <tr>\n",
       "      <th>23173</th>\n",
       "      <td>Lemon Land Lombard</td>\n",
       "      <td>0</td>\n",
       "    </tr>\n",
       "    <tr>\n",
       "      <th>23174</th>\n",
       "      <td>Махина</td>\n",
       "      <td>0</td>\n",
       "    </tr>\n",
       "  </tbody>\n",
       "</table>\n",
       "<p>23175 rows × 2 columns</p>\n",
       "</div>"
      ],
      "text/plain": [
       "                         name  count\n",
       "0                      Яндекс    181\n",
       "1                  Ростелеком    152\n",
       "2                  Спецремонт    116\n",
       "3      Поляков Денис Иванович     88\n",
       "4                   ООО ЕФИН      71\n",
       "...                       ...    ...\n",
       "23170                  СДЕЛКА      0\n",
       "23171            Alandr Group      0\n",
       "23172                     СДК      0\n",
       "23173      Lemon Land Lombard      0\n",
       "23174                  Махина      0\n",
       "\n",
       "[23175 rows x 2 columns]"
      ]
     },
     "execution_count": 27,
     "metadata": {},
     "output_type": "execute_result"
    }
   ],
   "source": [
    "# результат запроса\n",
    "result = pd.read_sql_query(query_5_3, connection)\n",
    "result"
   ]
  },
  {
   "cell_type": "markdown",
   "id": "7c441f97",
   "metadata": {
    "id": "eab2206d-d95b-468b-8e5f-34381abf0ce7"
   },
   "source": [
    "4. Напишите запрос для подсчёта количества работодателей, у которых не указана сфера деятельности. "
   ]
  },
  {
   "cell_type": "code",
   "execution_count": 28,
   "id": "eab8717f",
   "metadata": {
    "id": "80defb23-bfb1-4a18-8be6-bf36aa7165d5"
   },
   "outputs": [],
   "source": [
    "# текст запроса\n",
    "query_5_4 = f'''\n",
    "select \n",
    "-- считаем количество работодателей\n",
    "count(e.name)         \n",
    "from public.EMPLOYERS e \n",
    "-- объединяем промежуточную таблицу и таблицу рабтодателей\n",
    "left join public.EMPLOYERS_INDUSTRIES ei on ei.employer_id = e.id \n",
    "-- объединяем промежуточную табличу и таблицу сфер деятельности\n",
    "left join public.INDUSTRIES i on i.id = ei.industry_id  \n",
    "-- отбираем записи, где не указана сфера деятельности\n",
    "where i.name is null           \n",
    "'''"
   ]
  },
  {
   "cell_type": "code",
   "execution_count": 29,
   "id": "e43202ca",
   "metadata": {
    "id": "Dp_yCx6ysQSu"
   },
   "outputs": [
    {
     "data": {
      "text/plain": [
       "8419"
      ]
     },
     "execution_count": 29,
     "metadata": {},
     "output_type": "execute_result"
    }
   ],
   "source": [
    "# результат запроса\n",
    "result = pd.read_sql_query(query_5_4, connection)\n",
    "result.iloc[0][0]"
   ]
  },
  {
   "cell_type": "markdown",
   "id": "3b2a6343",
   "metadata": {
    "id": "0112af31-f6b0-4e3b-82ab-71296e752e5e"
   },
   "source": [
    "5. Напишите запрос, чтобы узнать название компании, находящейся на третьем месте в алфавитном списке (по названию) компаний, у которых указано четыре сферы деятельности. "
   ]
  },
  {
   "cell_type": "code",
   "execution_count": 30,
   "id": "44099c9d",
   "metadata": {
    "id": "973b0cfc-a972-470a-8b4a-68744ef220c4"
   },
   "outputs": [],
   "source": [
    "# текст запроса\n",
    "query_5_5 = f'''\n",
    "select \n",
    "e.name\n",
    "from public.EMPLOYERS e \n",
    "-- объединяем промежуточную таблицу и таблицу рабтодателей\n",
    "left join public.EMPLOYERS_INDUSTRIES ei on ei.employer_id = e.id\n",
    "-- объединяем промежуточную табличу и таблицу сфер деятельности\n",
    "left join public.INDUSTRIES i on i.id = ei.industry_id\n",
    "-- группируем по наименованию работодателя\n",
    "group by 1 \n",
    "-- отбираем только компании у которых 4 сферы деятельности\n",
    "having count(i.name) = 4\n",
    "-- сортируем по алфавиту по названию работодателя\n",
    "order by 1 \n",
    "-- пропускаем 2 первые записи в отборе\n",
    "offset 2 \n",
    "-- берем первую запись после пропуска\n",
    "limit 1\n",
    "'''"
   ]
  },
  {
   "cell_type": "code",
   "execution_count": 31,
   "id": "35f3e571",
   "metadata": {
    "id": "xsPtpp8EsaED"
   },
   "outputs": [
    {
     "name": "stdout",
     "output_type": "stream",
     "text": [
      "2ГИС\n"
     ]
    }
   ],
   "source": [
    "# результат запроса\n",
    "result = pd.read_sql_query(query_5_5, connection)\n",
    "print(result.iloc[0][0])"
   ]
  },
  {
   "cell_type": "markdown",
   "id": "20d5bd5c",
   "metadata": {
    "id": "3bfcfdaf-755d-4d2b-8ed8-326201dc07ab"
   },
   "source": [
    "6. С помощью запроса выясните, у какого количества работодателей в качестве сферы деятельности указана Разработка программного обеспечения.\n"
   ]
  },
  {
   "cell_type": "code",
   "execution_count": 32,
   "id": "29e199f0",
   "metadata": {
    "id": "ad3f270f-2991-47eb-929b-e8f88a55b0d1"
   },
   "outputs": [],
   "source": [
    "# текст запроса\n",
    "query_5_6 = f'''\n",
    "select \n",
    "-- считаем количесво работодателей\n",
    "count(e.name)\n",
    "from public.EMPLOYERS e \n",
    "-- объединяем промежуточную таблицу и таблицу рабтодателей\n",
    "left join public.EMPLOYERS_INDUSTRIES ei on ei.employer_id = e.id\n",
    "-- объединяем промежуточную табличу и таблицу сфер деятельности\n",
    "left join public.INDUSTRIES i on i.id = ei.industry_id\n",
    "-- отбираем тольок записи со сферой деятельности\n",
    "-- 'Разработка программного обеспечения'\n",
    "where i.name = 'Разработка программного обеспечения'\n",
    "'''"
   ]
  },
  {
   "cell_type": "code",
   "execution_count": 33,
   "id": "e666fd38",
   "metadata": {
    "id": "H72qxWM0shPR"
   },
   "outputs": [
    {
     "name": "stdout",
     "output_type": "stream",
     "text": [
      "3553\n"
     ]
    }
   ],
   "source": [
    "# результат запроса\n",
    "result = pd.read_sql_query(query_5_6, connection)\n",
    "print(result.iloc[0][0])"
   ]
  },
  {
   "cell_type": "markdown",
   "id": "95c34774",
   "metadata": {
    "id": "7b02bb86-0546-40fb-94a4-242f050a5c57"
   },
   "source": [
    "7. Для компании «Яндекс» выведите список регионов-миллионников, в которых представлены вакансии компании, вместе с количеством вакансий в этих регионах. Также добавьте строку Total с общим количеством вакансий компании. Результат отсортируйте по возрастанию количества.\n",
    "\n",
    "Список городов-милионников надо взять [отсюда](https://ru.wikipedia.org/wiki/%D0%93%D0%BE%D1%80%D0%BE%D0%B4%D0%B0-%D0%BC%D0%B8%D0%BB%D0%BB%D0%B8%D0%BE%D0%BD%D0%B5%D1%80%D1%8B_%D0%A0%D0%BE%D1%81%D1%81%D0%B8%D0%B8). \n",
    "\n",
    "Если возникнут трудности с этим задание посмотрите материалы модуля  PYTHON-17. Как получать данные из веб-источников и API. "
   ]
  },
  {
   "cell_type": "code",
   "execution_count": 34,
   "id": "000a47d4",
   "metadata": {
    "id": "ZdfrL6gIs1Pn"
   },
   "outputs": [],
   "source": [
    "# код для получения списка городов-милионников\n",
    "url = 'https://ru.wikipedia.org/wiki/%D0%93%D0%BE%D1%80%D0%BE%D0%B4%D0%B0-\\\n",
    "%D0%BC%D0%B8%D0%BB%D0%BB%D0%B8%D0%BE%D0%BD%D0%B5%D1%80%D1%8B_%D0%A0%D0%BE%\\\n",
    "D1%81%D1%81%D0%B8%D0%B8'\n",
    "\n",
    "# получаем страницу по заданому адресу\n",
    "response = requests.get(url)\n",
    "# преобразуем ответ в объект BeautifulSoup\n",
    "soup = BeautifulSoup(response.text, 'html.parser')\n",
    "# получаем набор строк таблицы с городами миллионниками\n",
    "rows = soup.select(\n",
    "    '#mw-content-text > div > table.standard.sortable > tbody > tr')\n",
    "# получаем списко с названием городов миллионников\n",
    "cities_list = []\n",
    "for row in rows:\n",
    "    columns = row.select('td')\n",
    "    if len(columns) > 0:\n",
    "        name = columns[1].select('a')[0].text.strip()\n",
    "        cities_list.append(name)\n",
    "# преобразуем список в строку\n",
    "cities = (\"'\"+\"','\".join(cities_list)+\"'\")"
   ]
  },
  {
   "cell_type": "code",
   "execution_count": 35,
   "id": "c2f89d02",
   "metadata": {
    "id": "5a0e32a4-e68a-4365-8a39-2fe24c542c36"
   },
   "outputs": [],
   "source": [
    "# текст запроса\n",
    "query_5_7 = f'''\n",
    "(select\n",
    "-- наименовнаие региона\n",
    "a.name,\n",
    "-- считаем количество вакансий\n",
    "count(v.id) cnt \n",
    "from public.employers e\n",
    "-- объединяем таблицы ваканси и работодателей\n",
    "left join public.vacancies v on e.id = v.employer_id\n",
    "-- объединяем таблицы вакансий и регионов\n",
    "join public.areas a on a.id = v.area_id \n",
    "-- ограничиваем отбор по работодателям компанией 'Яндекс'\n",
    "where e.name = 'Яндекс'\n",
    "-- ограничиваем отбор по регионам городами миллионниками\n",
    "and a.name in ({cities})\n",
    "--группируем по наименованию рагиона\n",
    "group by 1 )\n",
    "-- объединяем таблицы по вертикали\n",
    "union \n",
    "(select\n",
    "-- задаем значение столбца\n",
    "'Total',\n",
    "-- считаем количество вакансий\n",
    "count(v.id) cnt\n",
    "from public.employers e\n",
    "-- объединяем таблицы ваканси и работодателей\n",
    "left join public.vacancies v on e.id = v.employer_id\n",
    "-- объединяем таблицы вакансий и регионов\n",
    "join public.areas a on a.id = v.area_id \n",
    "-- ограничиваем отбор по работодателям компанией 'Яндекс'\n",
    "where e.name = 'Яндекс'\n",
    "-- ограничиваем отбор по регионам городами миллионниками\n",
    "and a.name in ({cities})\n",
    "-- группируем по заданому значению столбца наименования региона\n",
    "group by 1)\n",
    "-- сортируем полученную объединённую таблицу по количеству вакансий\n",
    "order by 2 \n",
    "'''"
   ]
  },
  {
   "cell_type": "code",
   "execution_count": 36,
   "id": "2938dced",
   "metadata": {
    "id": "ttPhiO1rsvPq"
   },
   "outputs": [
    {
     "data": {
      "text/html": [
       "<div>\n",
       "<style scoped>\n",
       "    .dataframe tbody tr th:only-of-type {\n",
       "        vertical-align: middle;\n",
       "    }\n",
       "\n",
       "    .dataframe tbody tr th {\n",
       "        vertical-align: top;\n",
       "    }\n",
       "\n",
       "    .dataframe thead th {\n",
       "        text-align: right;\n",
       "    }\n",
       "</style>\n",
       "<table border=\"1\" class=\"dataframe\">\n",
       "  <thead>\n",
       "    <tr style=\"text-align: right;\">\n",
       "      <th></th>\n",
       "      <th>name</th>\n",
       "      <th>cnt</th>\n",
       "    </tr>\n",
       "  </thead>\n",
       "  <tbody>\n",
       "    <tr>\n",
       "      <th>0</th>\n",
       "      <td>Омск</td>\n",
       "      <td>21</td>\n",
       "    </tr>\n",
       "    <tr>\n",
       "      <th>1</th>\n",
       "      <td>Челябинск</td>\n",
       "      <td>22</td>\n",
       "    </tr>\n",
       "    <tr>\n",
       "      <th>2</th>\n",
       "      <td>Красноярск</td>\n",
       "      <td>23</td>\n",
       "    </tr>\n",
       "    <tr>\n",
       "      <th>3</th>\n",
       "      <td>Волгоград</td>\n",
       "      <td>24</td>\n",
       "    </tr>\n",
       "    <tr>\n",
       "      <th>4</th>\n",
       "      <td>Пермь</td>\n",
       "      <td>25</td>\n",
       "    </tr>\n",
       "    <tr>\n",
       "      <th>5</th>\n",
       "      <td>Казань</td>\n",
       "      <td>25</td>\n",
       "    </tr>\n",
       "    <tr>\n",
       "      <th>6</th>\n",
       "      <td>Ростов-на-Дону</td>\n",
       "      <td>25</td>\n",
       "    </tr>\n",
       "    <tr>\n",
       "      <th>7</th>\n",
       "      <td>Уфа</td>\n",
       "      <td>26</td>\n",
       "    </tr>\n",
       "    <tr>\n",
       "      <th>8</th>\n",
       "      <td>Самара</td>\n",
       "      <td>26</td>\n",
       "    </tr>\n",
       "    <tr>\n",
       "      <th>9</th>\n",
       "      <td>Краснодар</td>\n",
       "      <td>30</td>\n",
       "    </tr>\n",
       "    <tr>\n",
       "      <th>10</th>\n",
       "      <td>Воронеж</td>\n",
       "      <td>32</td>\n",
       "    </tr>\n",
       "    <tr>\n",
       "      <th>11</th>\n",
       "      <td>Новосибирск</td>\n",
       "      <td>35</td>\n",
       "    </tr>\n",
       "    <tr>\n",
       "      <th>12</th>\n",
       "      <td>Нижний Новгород</td>\n",
       "      <td>36</td>\n",
       "    </tr>\n",
       "    <tr>\n",
       "      <th>13</th>\n",
       "      <td>Екатеринбург</td>\n",
       "      <td>39</td>\n",
       "    </tr>\n",
       "    <tr>\n",
       "      <th>14</th>\n",
       "      <td>Санкт-Петербург</td>\n",
       "      <td>42</td>\n",
       "    </tr>\n",
       "    <tr>\n",
       "      <th>15</th>\n",
       "      <td>Москва</td>\n",
       "      <td>54</td>\n",
       "    </tr>\n",
       "    <tr>\n",
       "      <th>16</th>\n",
       "      <td>Total</td>\n",
       "      <td>485</td>\n",
       "    </tr>\n",
       "  </tbody>\n",
       "</table>\n",
       "</div>"
      ],
      "text/plain": [
       "               name  cnt\n",
       "0              Омск   21\n",
       "1         Челябинск   22\n",
       "2        Красноярск   23\n",
       "3         Волгоград   24\n",
       "4             Пермь   25\n",
       "5            Казань   25\n",
       "6    Ростов-на-Дону   25\n",
       "7               Уфа   26\n",
       "8            Самара   26\n",
       "9         Краснодар   30\n",
       "10          Воронеж   32\n",
       "11      Новосибирск   35\n",
       "12  Нижний Новгород   36\n",
       "13     Екатеринбург   39\n",
       "14  Санкт-Петербург   42\n",
       "15           Москва   54\n",
       "16            Total  485"
      ]
     },
     "execution_count": 36,
     "metadata": {},
     "output_type": "execute_result"
    }
   ],
   "source": [
    "# результат запроса\n",
    "result = pd.read_sql_query(query_5_7, connection)\n",
    "result"
   ]
  },
  {
   "cell_type": "markdown",
   "id": "03652548",
   "metadata": {
    "id": "04966e40-3bc3-4dc8-9ba2-e80580ce3abc"
   },
   "source": [
    "***\n",
    "### Выводы по анализу работодателей:"
   ]
  },
  {
   "cell_type": "markdown",
   "id": "8953c2f1",
   "metadata": {
    "id": "aGGyER-yt4SR"
   },
   "source": [
    "- *В рассматриваемый период наибольшее количество вакансий в технологических компаниях и банках.*\n",
    "- *Вакансии распределяются по городам в количествах, пропорциональных населению. Что характерно в локализациях с названием государства, а не конкретного населенного пункта, наибольшее количество работодателей без вакансий.*\n",
    "- *На первых местах по количеству регионов в которых работодатели публикуют вакансии ожидаемо находятся крупные глобально, в масштабах страны, представленные компании, такие как \"Яндекс\" и \"Ростелеком\".*\n",
    "- *При рассмотрении распределения вакансий компании \"Яндекс\" по городам милионникам можно проследить тенденцию к корреляции количества вакансий с населением, 25% вакансий приходится на 16 городов милионников.*\n",
    "- *У 17% работодателей не указана сфера деятельности, это комапнии с 1 редко больше вакансией, как правило не являющиеся слишком крупными и известными. Видимо по этим причинам не считали нужным указать сферу деятельности. Подавляющее большинство работодателей указывают 4 или 5 сфер деятельности. \n",
    "- *В качестве сферы деятельности \"Разработка программного обеспечения\" указана у 7,2%  работодателей.*"
   ]
  },
  {
   "cell_type": "markdown",
   "id": "c1c39538",
   "metadata": {
    "id": "b1ef156a-efcb-49ce-bb23-90763e7f35b2",
    "tags": []
   },
   "source": [
    "# Юнит 6. Предметный анализ"
   ]
  },
  {
   "cell_type": "markdown",
   "id": "69e89c8e",
   "metadata": {
    "id": "b9cd50a0-992d-4988-8463-2b2b1c4629b4"
   },
   "source": [
    "1. Сколько вакансий имеет отношение к данным?\n",
    "\n",
    "Считаем, что вакансия имеет отношение к данным, если в её названии содержатся слова 'data' или 'данн'.\n",
    "\n",
    "*Подсказка: Обратите внимание, что названия вакансий могут быть написаны в любом регистре.* \n"
   ]
  },
  {
   "cell_type": "code",
   "execution_count": 37,
   "id": "4891963e",
   "metadata": {
    "id": "54ab0e50-c0f1-47cc-a54b-bc5c8bc363f9"
   },
   "outputs": [],
   "source": [
    "# текст запроса\n",
    "query_6_1 = f'''\n",
    "select\n",
    "-- считаем количество вакансий\n",
    "count(v.name) \n",
    "from public.vacancies v \n",
    "-- ограничиваем выбор по условию содержания в названии\n",
    "--  вакансии слов 'data' или 'данн'\n",
    "where upper(v.name) like '%DATA%' or upper(v.name) like '%ДАНН%'\n",
    "'''"
   ]
  },
  {
   "cell_type": "code",
   "execution_count": 38,
   "id": "ae3bd7b8",
   "metadata": {
    "id": "9F1meAqsuUjd"
   },
   "outputs": [
    {
     "data": {
      "text/plain": [
       "1771"
      ]
     },
     "execution_count": 38,
     "metadata": {},
     "output_type": "execute_result"
    }
   ],
   "source": [
    "# результат запроса\n",
    "result = pd.read_sql_query(query_6_1, connection)\n",
    "result.iloc[0][0]"
   ]
  },
  {
   "cell_type": "markdown",
   "id": "6a78eff8",
   "metadata": {
    "id": "4dea20cb-a36b-474a-a0b9-e08e8e3857a5"
   },
   "source": [
    "2. Сколько есть подходящих вакансий для начинающего дата-сайентиста? \n",
    "Будем считать вакансиями для дата-сайентистов такие, в названии которых есть хотя бы одно из следующих сочетаний:\n",
    "* 'data scientist'\n",
    "* 'data science'\n",
    "* 'исследователь данных'\n",
    "* 'ML' (здесь не нужно брать вакансии по HTML)\n",
    "* 'machine learning'\n",
    "* 'машинн%обучен%'\n",
    "\n",
    "** В следующих заданиях мы продолжим работать с вакансиями по этому условию.*\n",
    "\n",
    "Считаем вакансиями для специалистов уровня Junior следующие:\n",
    "* в названии есть слово 'junior' *или*\n",
    "* требуемый опыт — Нет опыта *или*\n",
    "* тип трудоустройства — Стажировка.\n",
    " "
   ]
  },
  {
   "cell_type": "code",
   "execution_count": 39,
   "id": "bb5e6488",
   "metadata": {
    "id": "9c61b3c0-bb66-46c9-ae1e-81d3f5752b4a"
   },
   "outputs": [],
   "source": [
    "# текст запроса\n",
    "query_6_2 = f'''\n",
    "select\n",
    "-- считаем количество вакансий\n",
    "count(v.name)\n",
    "from public.vacancies v\n",
    "-- ограничиваем выбор по условию содержания в названии\n",
    "-- вакансии слов 'data scientist', 'data science', 'исследователь данных',\n",
    "-- 'machine learning', 'машинн%обучен%', переводя название вакансии в\n",
    "-- нижний регистр для исключения дублирования случаев с различным написанием,\n",
    "-- а так же 'ML', исключая возможность наличия 'HTML'. Дополнительно\n",
    "-- ограничение по признаку  уровня Junior - содержания в названии в\n",
    "-- названии вакансии слов 'junior', 'Нет опыта', 'Стажировка'.\n",
    "where ((lower(v.name) like '%data scientist%' or lower(v.name) like \\\n",
    "'%data science%' or lower(v.name) like '%исследователь данных%' \\\n",
    "or lower(v.name) like '%machine learning%' or lower(v.name) like \\\n",
    "'%машинн%обучен%' or (v.name like '%ML%' and v.name not like '%HTML%')) \\\n",
    "and (lower(v.name) like '%junior%' or v.experience like '%Нет опыта%' \\\n",
    "or v.employment like 'Стажировка'))\n",
    "'''"
   ]
  },
  {
   "cell_type": "code",
   "execution_count": 40,
   "id": "ce084006",
   "metadata": {
    "id": "ZNM-LLYuu1dj"
   },
   "outputs": [
    {
     "data": {
      "text/plain": [
       "51"
      ]
     },
     "execution_count": 40,
     "metadata": {},
     "output_type": "execute_result"
    }
   ],
   "source": [
    "# результат запроса\n",
    "result = pd.read_sql_query(query_6_2, connection)\n",
    "result.iloc[0][0]"
   ]
  },
  {
   "cell_type": "markdown",
   "id": "3f26b28d",
   "metadata": {
    "id": "eedceb80-c5ca-480e-b27a-278dfb8b4438"
   },
   "source": [
    "3. Сколько есть вакансий для DS, в которых в качестве ключевого навыка указан SQL или postgres?\n",
    "\n",
    "** Критерии для отнесения вакансии к DS указаны в предыдущем задании.*"
   ]
  },
  {
   "cell_type": "code",
   "execution_count": 41,
   "id": "5f80097c",
   "metadata": {
    "id": "69621713-0cc5-4f1b-a1d7-bb144fa6148c"
   },
   "outputs": [],
   "source": [
    "# текст запроса\n",
    "# текст запроса\n",
    "query_6_3 = f'''\n",
    "select\n",
    "-- считаем количество вакансий\n",
    "count(v.name)\n",
    "from public.vacancies v\n",
    "-- ограничиваем выбор по условию содержания в названии\n",
    "-- вакансии слов 'data scientist', 'data science', 'исследователь данных',\n",
    "-- 'machine learning', 'машинн%обучен%', переводя название вакансии в\n",
    "-- нижний регистр для исключения дублирования случаев с различным написанием,\n",
    "-- а так же 'ML', исключая возможность наличия 'HTML'. Дополнительно\n",
    "-- ограничение по признаку ключевого навыка владение 'SQL', 'postgres'. \n",
    "where ((lower(v.name) like '%data scientist%' or lower(v.name) like \\\n",
    "'%data science%' or lower(v.name) like '%исследователь данных%' \\\n",
    "or lower(v.name) like '%machine learning%' or lower(v.name) like \\\n",
    "'%машинн%обучен%' or (v.name like '%ML%' and v.name not like '%HTML%')) \\\n",
    "and (v.key_skills like '%SQL%' or v.key_skills like '%postgres%'))\n",
    "'''"
   ]
  },
  {
   "cell_type": "code",
   "execution_count": 42,
   "id": "ba914885",
   "metadata": {
    "id": "alA8WEAAvGdf"
   },
   "outputs": [
    {
     "data": {
      "text/plain": [
       "201"
      ]
     },
     "execution_count": 42,
     "metadata": {},
     "output_type": "execute_result"
    }
   ],
   "source": [
    "# результат запроса\n",
    "result = pd.read_sql_query(query_6_3, connection)\n",
    "result.iloc[0][0]"
   ]
  },
  {
   "cell_type": "markdown",
   "id": "6566adcf",
   "metadata": {
    "id": "1be1e9c6-37cf-4a5f-bfeb-04cab799dc80"
   },
   "source": [
    "4. Проверьте, насколько популярен Python в требованиях работодателей к DS.Для этого вычислите количество вакансий, в которых в качестве ключевого навыка указан Python.\n",
    "\n",
    "** Это можно сделать помощью запроса, аналогичного предыдущему.*"
   ]
  },
  {
   "cell_type": "code",
   "execution_count": 43,
   "id": "0c077723",
   "metadata": {
    "id": "0036a355-9ccf-4564-8b01-73d8194297e7"
   },
   "outputs": [],
   "source": [
    "# текст запроса\n",
    "query_6_4 = f'''\n",
    "select\n",
    "-- считаем количество вакансий\n",
    "count(v.name)\n",
    "from public.vacancies v\n",
    "-- ограничиваем выбор по условию содержания в названии\n",
    "-- вакансии слов 'data scientist', 'data science', 'исследователь данных',\n",
    "-- 'machine learning', 'машинн%обучен%', переводя название вакансии в\n",
    "-- нижний регистр для исключения дублирования случаев с различным написанием,\n",
    "-- а так же 'ML', исключая возможность наличия 'HTML'. Дополнительно\n",
    "-- ограничение по признаку ключевого навыка владение 'Python'. \n",
    "where ((lower(v.name) like '%data scientist%' or lower(v.name) like \\\n",
    "'%data science%' or lower(v.name) like '%исследователь данных%' \\\n",
    "or lower(v.name) like '%machine learning%' or lower(v.name) like \\\n",
    "'%машинн%обучен%' or (v.name like '%ML%' and v.name not like '%HTML%')) \\\n",
    "and (v.key_skills like '%Python%'))\n",
    "'''"
   ]
  },
  {
   "cell_type": "code",
   "execution_count": 44,
   "id": "1d7eda68",
   "metadata": {
    "id": "1i-5WyucvQ6v"
   },
   "outputs": [
    {
     "data": {
      "text/plain": [
       "351"
      ]
     },
     "execution_count": 44,
     "metadata": {},
     "output_type": "execute_result"
    }
   ],
   "source": [
    "# результат запроса\n",
    "result = pd.read_sql_query(query_6_4, connection)\n",
    "result.iloc[0][0]"
   ]
  },
  {
   "cell_type": "markdown",
   "id": "b570e8d0",
   "metadata": {
    "id": "ec3c8db7-fa21-4a41-a994-1af63742a642"
   },
   "source": [
    "5. Сколько ключевых навыков в среднем указывают в вакансиях для DS?\n",
    "Ответ округлите до двух знаков после точки-разделителя."
   ]
  },
  {
   "cell_type": "code",
   "execution_count": 45,
   "id": "8e6732de",
   "metadata": {
    "id": "949132bc-d5b6-4611-8218-0b9a504d74f4"
   },
   "outputs": [],
   "source": [
    "# текст запроса\n",
    "query_6_5 = f'''\n",
    "select \n",
    "-- считаем среднее количество навыков, которое указывают в вакансиях\n",
    "-- с округлением\n",
    "Round((sum((LENGTH(v.key_skills)-LENGTH(replace(v.key_skills,chr(9),'')))\\\n",
    "                            +1)*1.0)/count(v.key_skills),2)\n",
    "from public.vacancies v \n",
    "-- ограничиваем выбор по условию содержания в названии\n",
    "-- вакансии слов 'data scientist', 'data science', 'исследователь данных',\n",
    "-- 'machine learning', 'машинн%обучен%', переводя название вакансии в\n",
    "-- нижний регистр для исключения дублирования случаев с различным написанием,\n",
    "-- а так же 'ML', исключая возможность наличия 'HTML'. Исключаем \n",
    "-- пустое значение в поле навыков.\n",
    "where ((lower(v.name) like '%data scientist%' or lower(v.name) like \\\n",
    "'%data science%' or lower(v.name) like '%исследователь данных%' \\\n",
    "or lower(v.name) like '%machine learning%' or lower(v.name) like \\\n",
    "'%машинн%обучен%' or (v.name like '%ML%' and v.name not like '%HTML%')) \\\n",
    "and v.key_skills is not null)\n",
    "'''"
   ]
  },
  {
   "cell_type": "code",
   "execution_count": 46,
   "id": "f5a40448",
   "metadata": {
    "id": "a3V24Tvmviqk"
   },
   "outputs": [
    {
     "data": {
      "text/plain": [
       "6.41"
      ]
     },
     "execution_count": 46,
     "metadata": {},
     "output_type": "execute_result"
    }
   ],
   "source": [
    "# результат запроса\n",
    "result = pd.read_sql_query(query_6_5, connection)\n",
    "result.iloc[0][0]"
   ]
  },
  {
   "cell_type": "markdown",
   "id": "cb1b31ba",
   "metadata": {
    "id": "1041c17a-ca8f-4543-a0ca-32778914fb00"
   },
   "source": [
    "6. Напишите запрос, позволяющий вычислить, какую зарплату для DS в **среднем** указывают для каждого типа требуемого опыта (уникальное значение из поля *experience*). \n",
    "\n",
    "При решении задачи примите во внимание следующее:\n",
    "1. Рассматриваем только вакансии, у которых заполнено хотя бы одно из двух полей с зарплатой.\n",
    "2. Если заполнены оба поля с зарплатой, то считаем зарплату по каждой вакансии как сумму двух полей, делённую на 2. Если заполнено только одно из полей, то его и считаем зарплатой по вакансии.\n",
    "3. Если в расчётах участвует null, в результате он тоже даст null (посмотрите, что возвращает запрос select 1 + null). Чтобы избежать этой ситуацию, мы воспользуемся функцией [coalesce](https://postgrespro.ru/docs/postgresql/9.5/functions-conditional#functions-coalesce-nvl-ifnull), которая заменит null на значение, которое мы передадим. Например, посмотрите, что возвращает запрос `select 1 + coalesce(null, 0)`\n",
    "\n",
    "Выясните, на какую зарплату в среднем может рассчитывать дата-сайентист с опытом работы от 3 до 6 лет. Результат округлите до целого числа. "
   ]
  },
  {
   "cell_type": "code",
   "execution_count": 47,
   "id": "7fcecee1",
   "metadata": {
    "id": "6a743d39-5204-48d3-8271-b9f88e68d40e"
   },
   "outputs": [],
   "source": [
    "# текст запроса\n",
    "query_6_6 = f'''\n",
    "select \n",
    "distinct(v.experience),\n",
    "-- считаем среднюю зарплату\n",
    "round(avg(\n",
    "case when v.salary_from is null then v.salary_to\n",
    "     when v.salary_to is null then v.salary_from\n",
    "     when v.salary_from is not null and v.salary_to is not null then\n",
    "     ((coalesce(v.salary_from,0)+coalesce(v.salary_to,0))*1.0)/2 end),0) salary\n",
    "from public.vacancies v \n",
    "-- ограничиваем выбор по условию содержания в названии\n",
    "-- вакансии слов 'data scientist', 'data science', 'исследователь данных',\n",
    "-- 'machine learning', 'машинн%обучен%', переводя название вакансии в\n",
    "-- нижний регистр для исключения дублирования случаев с различным написанием,\n",
    "-- а так же 'ML', исключая возможность наличия 'HTML'. Исключаем \n",
    "-- пустое значение в полях максималльной и минимальной ожидаемой зарплаты.\n",
    "where ((lower(v.name) like '%data scientist%' or lower(v.name) like \\\n",
    "'%data science%' or lower(v.name) like '%исследователь данных%' \\\n",
    "or lower(v.name) like '%machine learning%' or lower(v.name) like \\\n",
    "'%машинн%обучен%' or (v.name like '%ML%' and v.name not like '%HTML%')) \\\n",
    "and (v.salary_from is not null or v.salary_to is not null))\n",
    "group by 1\n",
    "'''"
   ]
  },
  {
   "cell_type": "code",
   "execution_count": 48,
   "id": "183e0d3b",
   "metadata": {
    "id": "aRIJ0mZEwU1_"
   },
   "outputs": [
    {
     "data": {
      "text/html": [
       "<div>\n",
       "<style scoped>\n",
       "    .dataframe tbody tr th:only-of-type {\n",
       "        vertical-align: middle;\n",
       "    }\n",
       "\n",
       "    .dataframe tbody tr th {\n",
       "        vertical-align: top;\n",
       "    }\n",
       "\n",
       "    .dataframe thead th {\n",
       "        text-align: right;\n",
       "    }\n",
       "</style>\n",
       "<table border=\"1\" class=\"dataframe\">\n",
       "  <thead>\n",
       "    <tr style=\"text-align: right;\">\n",
       "      <th></th>\n",
       "      <th>experience</th>\n",
       "      <th>salary</th>\n",
       "    </tr>\n",
       "  </thead>\n",
       "  <tbody>\n",
       "    <tr>\n",
       "      <th>0</th>\n",
       "      <td>Нет опыта</td>\n",
       "      <td>74643.0</td>\n",
       "    </tr>\n",
       "    <tr>\n",
       "      <th>1</th>\n",
       "      <td>От 1 года до 3 лет</td>\n",
       "      <td>139675.0</td>\n",
       "    </tr>\n",
       "    <tr>\n",
       "      <th>2</th>\n",
       "      <td>От 3 до 6 лет</td>\n",
       "      <td>243115.0</td>\n",
       "    </tr>\n",
       "  </tbody>\n",
       "</table>\n",
       "</div>"
      ],
      "text/plain": [
       "           experience    salary\n",
       "0           Нет опыта   74643.0\n",
       "1  От 1 года до 3 лет  139675.0\n",
       "2       От 3 до 6 лет  243115.0"
      ]
     },
     "execution_count": 48,
     "metadata": {},
     "output_type": "execute_result"
    }
   ],
   "source": [
    "# результат запроса\n",
    "result = pd.read_sql_query(query_6_6, connection)\n",
    "result"
   ]
  },
  {
   "cell_type": "markdown",
   "id": "7e1288d1",
   "metadata": {
    "id": "6a7892b4-4113-4746-adce-18aa2844f18e"
   },
   "source": [
    "***\n",
    "# Выводы по предметному анализу:"
   ]
  },
  {
   "cell_type": "markdown",
   "id": "5be67d1e",
   "metadata": {
    "id": "UjLWUptVwY1o"
   },
   "source": [
    "- *Из общего количества к данным имеет отношение 3,6% вакансий. А вот для начинающих датасаентистов всего 51 вканасия, что составляет 2,88% от вакансий, имеющих отношение к данным и 0,1% от общего количества опубликованных вакансий.*\n",
    "- *Более распространены вакансии с ключевыми навыками владения SQL или Postgres 11,3% от вакансий относящихся к данным и 0,4% от общего количества и с клчевым навыком владения Python 19,8% от вакансий  относящихся к данным и 0,7% от общего количества вакансий.*\n",
    "- *Среднее количество навыков, указываемых в вакансиях по DS 6.41.*\n",
    "- *Средняя ожидаемая зарплата для датасаентистов достаточна высока, от 74643 руб. для вакансий без навыка работы до 243115 для опыта работы от 3 до 6 лет.*"
   ]
  },
  {
   "cell_type": "markdown",
   "id": "8c2fdda2",
   "metadata": {
    "id": "c0ED6fh7wiBT"
   },
   "source": [
    "# Общий вывод по проекту"
   ]
  },
  {
   "cell_type": "markdown",
   "id": "87842526",
   "metadata": {
    "id": "h9B3BL-wwj18"
   },
   "source": [
    "   *В целом можно сделать следующие выводы на ресурсе НН представлен широкий спектр вакансий по многим городам и регионам. Вакансии размещаются фирами, функционирующими в различных сферах деятельности, но доля публикующих вакансии смещана в сторону технологических компаний. Тем не менне ра ресурсе представлены  работодатели с единичными вакансиями. Количество сфер деятельности по работодателям так же колеблется при средних значениях 4-5.*\n",
    "\n",
    "   *Количество вакансий коррелирует с населением и промышленно-деловым потенциалом городов. Здесь было бы интересно оценить распределение средних зарплат и спектра вакансий по сферам деятельности в разрезе регионов.*\n",
    "   \n",
    "   *Вакансии представлены преимущественно позициями с не высокими требованиями к опыту и уровню зарплаты, что может говорить о использовании данной площадки в основном для поиска начинащих сотрудников, в то время как более опытные специалисты с более высокими запросами ищут работу по иным каналам. *\n",
    "   \n",
    "   *Доля вакансий для специалистов, работающих с данными, не велика и в целом составляет 3,6% от общего количества вакансий. А вот для начинающих датасаентистов всего 51 вканасия, что составляет 2,88% от вакансий, имеющих отношение к данным и 0,1% от общего количества опубликованных вакансий.*\n",
    "   \n",
    "   *Среднее количество навыков, указываемых в вакансиях по DS 6.41. При этом средняя предлагаемая зарплата для датасаентистов достаточна высока, от 74643 руб. для вакансий без навыка работы, и до 243115 для опыта работы от 3 до 6 лет. Что так же скорее говорит о поиске преимущественно начинающих специалистов.*"
   ]
  },
  {
   "cell_type": "code",
   "execution_count": null,
   "id": "f6363758",
   "metadata": {},
   "outputs": [],
   "source": []
  }
 ],
 "metadata": {
  "colab": {
   "collapsed_sections": [
    "8d62a9f3-f64e-4fe7-bdac-c4dffa16155e"
   ],
   "provenance": []
  },
  "kernelspec": {
   "display_name": "Python 3 (ipykernel)",
   "language": "python",
   "name": "python3"
  },
  "language_info": {
   "codemirror_mode": {
    "name": "ipython",
    "version": 3
   },
   "file_extension": ".py",
   "mimetype": "text/x-python",
   "name": "python",
   "nbconvert_exporter": "python",
   "pygments_lexer": "ipython3",
   "version": "3.9.13"
  },
  "varInspector": {
   "cols": {
    "lenName": 16,
    "lenType": 16,
    "lenVar": 40
   },
   "kernels_config": {
    "python": {
     "delete_cmd_postfix": "",
     "delete_cmd_prefix": "del ",
     "library": "var_list.py",
     "varRefreshCmd": "print(var_dic_list())"
    },
    "r": {
     "delete_cmd_postfix": ") ",
     "delete_cmd_prefix": "rm(",
     "library": "var_list.r",
     "varRefreshCmd": "cat(var_dic_list()) "
    }
   },
   "types_to_exclude": [
    "module",
    "function",
    "builtin_function_or_method",
    "instance",
    "_Feature"
   ],
   "window_display": false
  }
 },
 "nbformat": 4,
 "nbformat_minor": 5
}
